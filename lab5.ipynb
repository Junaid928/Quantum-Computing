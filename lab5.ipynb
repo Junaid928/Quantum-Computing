{
 "cells": [
  {
   "cell_type": "code",
   "execution_count": 1,
   "id": "b68f3fa1-f1b1-46cf-b05d-960551880275",
   "metadata": {
    "tags": []
   },
   "outputs": [],
   "source": [
    "# Importing standard Qiskit libraries\n",
    "from qiskit import QuantumCircuit, transpile\n",
    "from qiskit.tools.jupyter import *\n",
    "from qiskit.visualization import *\n",
    "from ibm_quantum_widgets import *\n",
    "from qiskit_aer import AerSimulator\n",
    "\n",
    "# qiskit-ibmq-provider has been deprecated.\n",
    "# Please see the Migration Guides in https://ibm.biz/provider_migration_guide for more detail.\n",
    "from qiskit_ibm_runtime import QiskitRuntimeService, Sampler, Estimator, Session, Options\n",
    "\n",
    "# Loading your IBM Quantum account(s)\n",
    "service = QiskitRuntimeService(channel=\"ibm_quantum\")\n",
    "\n",
    "# Invoke a primitive inside a session. For more details see https://qiskit.org/documentation/partners/qiskit_ibm_runtime/tutorials.html\n",
    "# with Session(backend=service.backend(\"ibmq_qasm_simulator\")):\n",
    "#     result = Sampler().run(circuits).result()"
   ]
  },
  {
   "cell_type": "code",
   "execution_count": 5,
   "id": "994cfaf7-10d4-4d06-86d2-cc4cad2c4963",
   "metadata": {
    "tags": []
   },
   "outputs": [
    {
     "name": "stdout",
     "output_type": "stream",
     "text": [
      "Traceback \u001b[1;36m(most recent call last)\u001b[0m:\n",
      "\u001b[0m  Cell \u001b[0;32mIn[5], line 4\u001b[0m\n",
      "    visualize_transition(qc,trace=True,saveas=\"1 xgate.mp4\",fpg=120,spg=2)\u001b[0m\n",
      "\u001b[0m  File \u001b[0;32m/opt/conda/lib/python3.10/site-packages/qiskit/visualization/transition_visualization.py:361\u001b[0m in \u001b[0;35mvisualize_transition\u001b[0m\n",
      "    return HTML(ani.to_jshtml())\u001b[0m\n",
      "\u001b[0m  File \u001b[0;32m/opt/conda/lib/python3.10/site-packages/matplotlib/animation.py:1330\u001b[0m in \u001b[0;35mto_jshtml\u001b[0m\n",
      "    self.save(str(path), writer=writer)\u001b[0m\n",
      "\u001b[0m  File \u001b[0;32m/opt/conda/lib/python3.10/site-packages/matplotlib/animation.py:1082\u001b[0m in \u001b[0;35msave\u001b[0m\n",
      "    anim._draw_next_frame(d, blit=False)\u001b[0m\n",
      "\u001b[0m  File \u001b[0;32m/opt/conda/lib/python3.10/site-packages/matplotlib/animation.py:1117\u001b[0m in \u001b[0;35m_draw_next_frame\u001b[0m\n",
      "    self._draw_frame(framedata)\u001b[0m\n",
      "\u001b[0m  File \u001b[0;32m/opt/conda/lib/python3.10/site-packages/matplotlib/animation.py:1744\u001b[0m in \u001b[0;35m_draw_frame\u001b[0m\n",
      "    self._drawn_artists = self._func(framedata, *self._args)\u001b[0m\n",
      "\u001b[0m  File \u001b[0;32m/opt/conda/lib/python3.10/site-packages/qiskit/visualization/transition_visualization.py:336\u001b[0m in \u001b[0;35manimate\u001b[0m\n",
      "    sphere.make_sphere()\u001b[0m\n",
      "\u001b[0m  File \u001b[0;32m/opt/conda/lib/python3.10/site-packages/qiskit/visualization/bloch.py:401\u001b[0m in \u001b[0;35mmake_sphere\u001b[0m\n",
      "    self.render()\u001b[0m\n",
      "\u001b[0m  File \u001b[0;32m/opt/conda/lib/python3.10/site-packages/qiskit/visualization/bloch.py:448\u001b[0m in \u001b[0;35mrender\u001b[0m\n",
      "    self.plot_points()\u001b[0m\n",
      "\u001b[1;36m  File \u001b[1;32m/opt/conda/lib/python3.10/site-packages/qiskit/visualization/bloch.py:625\u001b[1;36m in \u001b[1;35mplot_points\u001b[1;36m\n",
      "\u001b[1;33m    if any(abs(dist - dist[0]) / dist[0] > 1e-12):\u001b[1;36m\n",
      "\u001b[1;31mIndexError\u001b[0m\u001b[1;31m:\u001b[0m list index out of range\n",
      "\n",
      "Use %tb to get the full traceback.\n"
     ]
    },
    {
     "data": {
      "text/html": [
       "\n",
       "<style>\n",
       ".button {\n",
       "  border: none;\n",
       "  color: white;\n",
       "  padding: 4px 8px;\n",
       "  text-align: center;\n",
       "  text-decoration: none;\n",
       "  display: inline-block;\n",
       "  font-size: 12px;\n",
       "  margin: 4px 2px;\n",
       "  transition-duration: 0.2s;\n",
       "  cursor: pointer;\n",
       "}\n",
       ".iqx-button {\n",
       "  background-color: #0f62fe; \n",
       "  color: white; \n",
       "}\n",
       ".iqx-button:hover {\n",
       "  background-color: #0043ce;\n",
       "  color: white;\n",
       "}\n",
       "</style>\n",
       "<a href=\"https://stackoverflow.com/search?q=IndexError: list index out of range\" target='_blank'><button class='button iqx-button'>Search for solution online</button></a>\n"
      ],
      "text/plain": [
       "<IPython.core.display.HTML object>"
      ]
     },
     "metadata": {},
     "output_type": "display_data"
    }
   ],
   "source": [
    "qc = QuantumCircuit(1)\n",
    "qc.x(0)\n",
    "from qiskit.visualization import visualize_transition\n",
    "visualize_transition(qc,trace=True,saveas=\"1 xgate.mp4\",fpg=120,spg=2)"
   ]
  },
  {
   "cell_type": "code",
   "execution_count": 6,
   "id": "2f836658-42bf-411b-8981-e02bf1b83c3a",
   "metadata": {
    "tags": []
   },
   "outputs": [
    {
     "name": "stdout",
     "output_type": "stream",
     "text": [
      "Traceback \u001b[1;36m(most recent call last)\u001b[0m:\n",
      "\u001b[0m  Cell \u001b[0;32mIn[6], line 3\u001b[0m\n",
      "    visualize_transition(qc,trace=True,saveas=\"1 ygate.mp4\",fpg=120,spg=2)\u001b[0m\n",
      "\u001b[0m  File \u001b[0;32m/opt/conda/lib/python3.10/site-packages/qiskit/visualization/transition_visualization.py:361\u001b[0m in \u001b[0;35mvisualize_transition\u001b[0m\n",
      "    return HTML(ani.to_jshtml())\u001b[0m\n",
      "\u001b[0m  File \u001b[0;32m/opt/conda/lib/python3.10/site-packages/matplotlib/animation.py:1330\u001b[0m in \u001b[0;35mto_jshtml\u001b[0m\n",
      "    self.save(str(path), writer=writer)\u001b[0m\n",
      "\u001b[0m  File \u001b[0;32m/opt/conda/lib/python3.10/site-packages/matplotlib/animation.py:1082\u001b[0m in \u001b[0;35msave\u001b[0m\n",
      "    anim._draw_next_frame(d, blit=False)\u001b[0m\n",
      "\u001b[0m  File \u001b[0;32m/opt/conda/lib/python3.10/site-packages/matplotlib/animation.py:1117\u001b[0m in \u001b[0;35m_draw_next_frame\u001b[0m\n",
      "    self._draw_frame(framedata)\u001b[0m\n",
      "\u001b[0m  File \u001b[0;32m/opt/conda/lib/python3.10/site-packages/matplotlib/animation.py:1744\u001b[0m in \u001b[0;35m_draw_frame\u001b[0m\n",
      "    self._drawn_artists = self._func(framedata, *self._args)\u001b[0m\n",
      "\u001b[0m  File \u001b[0;32m/opt/conda/lib/python3.10/site-packages/qiskit/visualization/transition_visualization.py:336\u001b[0m in \u001b[0;35manimate\u001b[0m\n",
      "    sphere.make_sphere()\u001b[0m\n",
      "\u001b[0m  File \u001b[0;32m/opt/conda/lib/python3.10/site-packages/qiskit/visualization/bloch.py:401\u001b[0m in \u001b[0;35mmake_sphere\u001b[0m\n",
      "    self.render()\u001b[0m\n",
      "\u001b[0m  File \u001b[0;32m/opt/conda/lib/python3.10/site-packages/qiskit/visualization/bloch.py:448\u001b[0m in \u001b[0;35mrender\u001b[0m\n",
      "    self.plot_points()\u001b[0m\n",
      "\u001b[1;36m  File \u001b[1;32m/opt/conda/lib/python3.10/site-packages/qiskit/visualization/bloch.py:625\u001b[1;36m in \u001b[1;35mplot_points\u001b[1;36m\n",
      "\u001b[1;33m    if any(abs(dist - dist[0]) / dist[0] > 1e-12):\u001b[1;36m\n",
      "\u001b[1;31mIndexError\u001b[0m\u001b[1;31m:\u001b[0m list index out of range\n",
      "\n",
      "Use %tb to get the full traceback.\n"
     ]
    },
    {
     "data": {
      "text/html": [
       "\n",
       "<style>\n",
       ".button {\n",
       "  border: none;\n",
       "  color: white;\n",
       "  padding: 4px 8px;\n",
       "  text-align: center;\n",
       "  text-decoration: none;\n",
       "  display: inline-block;\n",
       "  font-size: 12px;\n",
       "  margin: 4px 2px;\n",
       "  transition-duration: 0.2s;\n",
       "  cursor: pointer;\n",
       "}\n",
       ".iqx-button {\n",
       "  background-color: #0f62fe; \n",
       "  color: white; \n",
       "}\n",
       ".iqx-button:hover {\n",
       "  background-color: #0043ce;\n",
       "  color: white;\n",
       "}\n",
       "</style>\n",
       "<a href=\"https://stackoverflow.com/search?q=IndexError: list index out of range\" target='_blank'><button class='button iqx-button'>Search for solution online</button></a>\n"
      ],
      "text/plain": [
       "<IPython.core.display.HTML object>"
      ]
     },
     "metadata": {},
     "output_type": "display_data"
    }
   ],
   "source": [
    "qc.y(0)\n",
    "from qiskit.visualization import visualize_transition\n",
    "visualize_transition(qc,trace=True,saveas=\"1 ygate.mp4\",fpg=120,spg=2)"
   ]
  },
  {
   "cell_type": "code",
   "execution_count": 7,
   "id": "9440caf8-4485-4d6a-b9f9-3ab57aff2b57",
   "metadata": {
    "tags": []
   },
   "outputs": [
    {
     "name": "stdout",
     "output_type": "stream",
     "text": [
      "Traceback \u001b[1;36m(most recent call last)\u001b[0m:\n",
      "\u001b[0m  Cell \u001b[0;32mIn[7], line 3\u001b[0m\n",
      "    visualize_transition(qc,trace=True,saveas=\"1 hgate.mp4\",fpg=120,spg=2)\u001b[0m\n",
      "\u001b[0m  File \u001b[0;32m/opt/conda/lib/python3.10/site-packages/qiskit/visualization/transition_visualization.py:361\u001b[0m in \u001b[0;35mvisualize_transition\u001b[0m\n",
      "    return HTML(ani.to_jshtml())\u001b[0m\n",
      "\u001b[0m  File \u001b[0;32m/opt/conda/lib/python3.10/site-packages/matplotlib/animation.py:1330\u001b[0m in \u001b[0;35mto_jshtml\u001b[0m\n",
      "    self.save(str(path), writer=writer)\u001b[0m\n",
      "\u001b[0m  File \u001b[0;32m/opt/conda/lib/python3.10/site-packages/matplotlib/animation.py:1082\u001b[0m in \u001b[0;35msave\u001b[0m\n",
      "    anim._draw_next_frame(d, blit=False)\u001b[0m\n",
      "\u001b[0m  File \u001b[0;32m/opt/conda/lib/python3.10/site-packages/matplotlib/animation.py:1117\u001b[0m in \u001b[0;35m_draw_next_frame\u001b[0m\n",
      "    self._draw_frame(framedata)\u001b[0m\n",
      "\u001b[0m  File \u001b[0;32m/opt/conda/lib/python3.10/site-packages/matplotlib/animation.py:1744\u001b[0m in \u001b[0;35m_draw_frame\u001b[0m\n",
      "    self._drawn_artists = self._func(framedata, *self._args)\u001b[0m\n",
      "\u001b[0m  File \u001b[0;32m/opt/conda/lib/python3.10/site-packages/qiskit/visualization/transition_visualization.py:336\u001b[0m in \u001b[0;35manimate\u001b[0m\n",
      "    sphere.make_sphere()\u001b[0m\n",
      "\u001b[0m  File \u001b[0;32m/opt/conda/lib/python3.10/site-packages/qiskit/visualization/bloch.py:401\u001b[0m in \u001b[0;35mmake_sphere\u001b[0m\n",
      "    self.render()\u001b[0m\n",
      "\u001b[0m  File \u001b[0;32m/opt/conda/lib/python3.10/site-packages/qiskit/visualization/bloch.py:448\u001b[0m in \u001b[0;35mrender\u001b[0m\n",
      "    self.plot_points()\u001b[0m\n",
      "\u001b[1;36m  File \u001b[1;32m/opt/conda/lib/python3.10/site-packages/qiskit/visualization/bloch.py:625\u001b[1;36m in \u001b[1;35mplot_points\u001b[1;36m\n",
      "\u001b[1;33m    if any(abs(dist - dist[0]) / dist[0] > 1e-12):\u001b[1;36m\n",
      "\u001b[1;31mIndexError\u001b[0m\u001b[1;31m:\u001b[0m list index out of range\n",
      "\n",
      "Use %tb to get the full traceback.\n"
     ]
    },
    {
     "data": {
      "text/html": [
       "\n",
       "<style>\n",
       ".button {\n",
       "  border: none;\n",
       "  color: white;\n",
       "  padding: 4px 8px;\n",
       "  text-align: center;\n",
       "  text-decoration: none;\n",
       "  display: inline-block;\n",
       "  font-size: 12px;\n",
       "  margin: 4px 2px;\n",
       "  transition-duration: 0.2s;\n",
       "  cursor: pointer;\n",
       "}\n",
       ".iqx-button {\n",
       "  background-color: #0f62fe; \n",
       "  color: white; \n",
       "}\n",
       ".iqx-button:hover {\n",
       "  background-color: #0043ce;\n",
       "  color: white;\n",
       "}\n",
       "</style>\n",
       "<a href=\"https://stackoverflow.com/search?q=IndexError: list index out of range\" target='_blank'><button class='button iqx-button'>Search for solution online</button></a>\n"
      ],
      "text/plain": [
       "<IPython.core.display.HTML object>"
      ]
     },
     "metadata": {},
     "output_type": "display_data"
    }
   ],
   "source": [
    "qc.h(0)\n",
    "from qiskit.visualization import visualize_transition\n",
    "visualize_transition(qc,trace=True,saveas=\"1 hgate.mp4\",fpg=120,spg=2)"
   ]
  },
  {
   "cell_type": "code",
   "execution_count": null,
   "id": "5e9abb5f-58b0-47cb-af97-f77c32107a9b",
   "metadata": {
    "tags": []
   },
   "outputs": [],
   "source": [
    "qc.h(0)\n",
    "qc.s(0)\n",
    "from qiskit.visualization import visualize_transition\n",
    "visualize_transition(qc,trace=True,saveas=\"1 hsgate.mp4\",fpg=120,spg=2)"
   ]
  },
  {
   "cell_type": "code",
   "execution_count": null,
   "id": "a509b960-609b-4c6a-8da4-dcdf06ea2e2b",
   "metadata": {},
   "outputs": [],
   "source": []
  }
 ],
 "metadata": {
  "kernelspec": {
   "display_name": "Python 3 (ipykernel)",
   "language": "python",
   "name": "python3"
  },
  "language_info": {
   "codemirror_mode": {
    "name": "ipython",
    "version": 3
   },
   "file_extension": ".py",
   "mimetype": "text/x-python",
   "name": "python",
   "nbconvert_exporter": "python",
   "pygments_lexer": "ipython3",
   "version": "3.10.8"
  },
  "widgets": {
   "application/vnd.jupyter.widget-state+json": {
    "state": {
     "02cd74fecb2f43d39133335f75a95efa": {
      "model_module": "@jupyter-widgets/base",
      "model_module_version": "2.0.0",
      "model_name": "LayoutModel",
      "state": {
       "grid_area": "right",
       "padding": "0px 0px 0px 0px",
       "width": "70px"
      }
     },
     "0951c3ae21b84b7f8eec52ecd7939254": {
      "model_module": "@jupyter-widgets/controls",
      "model_module_version": "2.0.0",
      "model_name": "HTMLStyleModel",
      "state": {
       "description_width": "",
       "font_size": null,
       "text_color": null
      }
     },
     "1f7324b9029b435da9c31823403118d8": {
      "model_module": "@jupyter-widgets/base",
      "model_module_version": "2.0.0",
      "model_name": "LayoutModel",
      "state": {
       "width": "190px"
      }
     },
     "22e4ef7bc56d46019a158ef60fbf2136": {
      "model_module": "@jupyter-widgets/controls",
      "model_module_version": "2.0.0",
      "model_name": "HTMLStyleModel",
      "state": {
       "description_width": "",
       "font_size": null,
       "text_color": null
      }
     },
     "2abd8a62f8934b109f8c291e9e26b14a": {
      "model_module": "@jupyter-widgets/controls",
      "model_module_version": "2.0.0",
      "model_name": "HTMLStyleModel",
      "state": {
       "description_width": "",
       "font_size": null,
       "text_color": null
      }
     },
     "2b5894a71a0249afb4e9fc1746ec1518": {
      "model_module": "@jupyter-widgets/controls",
      "model_module_version": "2.0.0",
      "model_name": "HTMLStyleModel",
      "state": {
       "description_width": "",
       "font_size": null,
       "text_color": null
      }
     },
     "2d02f3f36f6c4c81af8c51b543cfa1e9": {
      "model_module": "@jupyter-widgets/base",
      "model_module_version": "2.0.0",
      "model_name": "LayoutModel",
      "state": {
       "width": "70px"
      }
     },
     "2ea953610c8e4b1fbec6478b8c1e1b4f": {
      "model_module": "@jupyter-widgets/controls",
      "model_module_version": "2.0.0",
      "model_name": "HTMLModel",
      "state": {
       "layout": "IPY_MODEL_82dd753f16794c5ab5a05781d149d237",
       "style": "IPY_MODEL_2abd8a62f8934b109f8c291e9e26b14a",
       "value": "<h5>Status</h5>"
      }
     },
     "336b164adbf946318aceb1d7687f56c9": {
      "model_module": "@jupyter-widgets/base",
      "model_module_version": "2.0.0",
      "model_name": "LayoutModel",
      "state": {
       "width": "145px"
      }
     },
     "3b91122278644493bfb4154cfa6b48b1": {
      "model_module": "@jupyter-widgets/controls",
      "model_module_version": "2.0.0",
      "model_name": "HBoxModel",
      "state": {
       "children": [
        "IPY_MODEL_4a027c79b8484957bc230f3ed174f31c",
        "IPY_MODEL_e5ac95cf81e64068902300c7c1fadc09",
        "IPY_MODEL_2ea953610c8e4b1fbec6478b8c1e1b4f",
        "IPY_MODEL_572c1bb6c910458f8f4c8788874d9837",
        "IPY_MODEL_f18b5cda6f0544e196a3de596965eb14"
       ],
       "layout": "IPY_MODEL_4bbad4e56e2d48c49215fdedbfbea5d1"
      }
     },
     "4a027c79b8484957bc230f3ed174f31c": {
      "model_module": "@jupyter-widgets/controls",
      "model_module_version": "2.0.0",
      "model_name": "HTMLModel",
      "state": {
       "layout": "IPY_MODEL_1f7324b9029b435da9c31823403118d8",
       "style": "IPY_MODEL_c8fcd5e64d044af282d6410a0d8a7617",
       "value": "<h5>Job ID</h5>"
      }
     },
     "4bbad4e56e2d48c49215fdedbfbea5d1": {
      "model_module": "@jupyter-widgets/base",
      "model_module_version": "2.0.0",
      "model_name": "LayoutModel",
      "state": {
       "margin": "0px 0px 0px 37px",
       "width": "600px"
      }
     },
     "4ff744ecd30544d7b4a5488eaf3ff451": {
      "model_module": "@jupyter-widgets/controls",
      "model_module_version": "2.0.0",
      "model_name": "ButtonStyleModel",
      "state": {
       "font_family": null,
       "font_size": null,
       "font_style": null,
       "font_variant": null,
       "font_weight": null,
       "text_color": null,
       "text_decoration": null
      }
     },
     "572c1bb6c910458f8f4c8788874d9837": {
      "model_module": "@jupyter-widgets/controls",
      "model_module_version": "2.0.0",
      "model_name": "HTMLModel",
      "state": {
       "layout": "IPY_MODEL_2d02f3f36f6c4c81af8c51b543cfa1e9",
       "style": "IPY_MODEL_f0b475d2cc6f42aba7b08e1c3bda37ba",
       "value": "<h5>Queue</h5>"
      }
     },
     "65beb5b7892a400887a360fce22b449f": {
      "model_module": "@jupyter-widgets/controls",
      "model_module_version": "2.0.0",
      "model_name": "HTMLModel",
      "state": {
       "layout": "IPY_MODEL_baa00973381549a09dc66d9e7d4091c3",
       "style": "IPY_MODEL_0951c3ae21b84b7f8eec52ecd7939254",
       "value": "<p style='font-family: IBM Plex Sans, Arial, Helvetica, sans-serif; font-size: 20px; font-weight: medium;'>Circuit Properties</p>"
      }
     },
     "7e23530e6d9e4830a8f81f6163dfde08": {
      "model_module": "@jupyter-widgets/base",
      "model_module_version": "2.0.0",
      "model_name": "LayoutModel",
      "state": {}
     },
     "7ef8084fb5e54aacb5a8e334d96582cc": {
      "model_module": "@jupyter-widgets/base",
      "model_module_version": "2.0.0",
      "model_name": "LayoutModel",
      "state": {
       "grid_template_areas": "\n                                       \". . . . right \"\n                                        ",
       "grid_template_columns": "20% 20% 20% 20% 20%",
       "width": "100%"
      }
     },
     "82dd753f16794c5ab5a05781d149d237": {
      "model_module": "@jupyter-widgets/base",
      "model_module_version": "2.0.0",
      "model_name": "LayoutModel",
      "state": {
       "width": "95px"
      }
     },
     "baa00973381549a09dc66d9e7d4091c3": {
      "model_module": "@jupyter-widgets/base",
      "model_module_version": "2.0.0",
      "model_name": "LayoutModel",
      "state": {
       "margin": "0px 0px 10px 0px"
      }
     },
     "c2c305f7a6d648b7830c12d521d9839f": {
      "model_module": "@jupyter-widgets/controls",
      "model_module_version": "2.0.0",
      "model_name": "GridBoxModel",
      "state": {
       "children": [
        "IPY_MODEL_de4ea1147a3741f78434b91bc3ddc7fb"
       ],
       "layout": "IPY_MODEL_7ef8084fb5e54aacb5a8e334d96582cc"
      }
     },
     "c8fcd5e64d044af282d6410a0d8a7617": {
      "model_module": "@jupyter-widgets/controls",
      "model_module_version": "2.0.0",
      "model_name": "HTMLStyleModel",
      "state": {
       "description_width": "",
       "font_size": null,
       "text_color": null
      }
     },
     "de4ea1147a3741f78434b91bc3ddc7fb": {
      "model_module": "@jupyter-widgets/controls",
      "model_module_version": "2.0.0",
      "model_name": "ButtonModel",
      "state": {
       "button_style": "primary",
       "description": "Clear",
       "layout": "IPY_MODEL_02cd74fecb2f43d39133335f75a95efa",
       "style": "IPY_MODEL_4ff744ecd30544d7b4a5488eaf3ff451",
       "tooltip": null
      }
     },
     "e5ac95cf81e64068902300c7c1fadc09": {
      "model_module": "@jupyter-widgets/controls",
      "model_module_version": "2.0.0",
      "model_name": "HTMLModel",
      "state": {
       "layout": "IPY_MODEL_336b164adbf946318aceb1d7687f56c9",
       "style": "IPY_MODEL_22e4ef7bc56d46019a158ef60fbf2136",
       "value": "<h5>Backend</h5>"
      }
     },
     "f0b475d2cc6f42aba7b08e1c3bda37ba": {
      "model_module": "@jupyter-widgets/controls",
      "model_module_version": "2.0.0",
      "model_name": "HTMLStyleModel",
      "state": {
       "description_width": "",
       "font_size": null,
       "text_color": null
      }
     },
     "f18b5cda6f0544e196a3de596965eb14": {
      "model_module": "@jupyter-widgets/controls",
      "model_module_version": "2.0.0",
      "model_name": "HTMLModel",
      "state": {
       "layout": "IPY_MODEL_7e23530e6d9e4830a8f81f6163dfde08",
       "style": "IPY_MODEL_2b5894a71a0249afb4e9fc1746ec1518",
       "value": "<h5>Message</h5>"
      }
     }
    },
    "version_major": 2,
    "version_minor": 0
   }
  }
 },
 "nbformat": 4,
 "nbformat_minor": 5
}
